{
 "cells": [
  {
   "cell_type": "code",
   "execution_count": 1,
   "metadata": {},
   "outputs": [],
   "source": [
    "# Example that prints the current virtual amounts of assets in the 0.3% USDC/ETH pool\n",
    "# using liquidity data from the Uniswap v3 subgraph.\n",
    "# 这个文件其实和subgraph-liquidity-positions.ipynb里的内容大部分是一样的\n",
    "\n",
    "import json, math\n",
    "import urllib.request\n",
    "\n",
    "# Look at the USDC/ETH 0.3% pool\n",
    "POOL_ID = '0x8ad599c3a0ff1de082011efddc58f1908eb6e6d8'\n",
    "\n",
    "# If you want to test with a smaller pool:\n",
    "# 0.05% GUSD/DAI pool (small pool)\n",
    "#POOL_ID = \"0x7cf12cef5ce9e5e068ebdef470ff8295e26c47b9\"\n",
    "\n",
    "URL = \"https://api.thegraph.com/subgraphs/name/uniswap/uniswap-v3\""
   ]
  },
  {
   "cell_type": "code",
   "execution_count": 2,
   "metadata": {},
   "outputs": [],
   "source": [
    "# GraphQL query to get the pool information\n",
    "query = \"\"\"query pools($pool_id: ID!) {\n",
    "  pools (where: {id: $pool_id}) {\n",
    "    tick\n",
    "    liquidity\n",
    "    feeTier\n",
    "    token0 {\n",
    "      symbol\n",
    "      decimals\n",
    "    }\n",
    "    token1 {\n",
    "      symbol\n",
    "      decimals\n",
    "    }\n",
    "  }\n",
    "}\"\"\"\n",
    "\n",
    "block_query = \"\"\"query {\n",
    "  _meta {\n",
    "    block {\n",
    "      number\n",
    "    }\n",
    "  }\n",
    "}\"\"\""
   ]
  },
  {
   "cell_type": "code",
   "execution_count": 3,
   "metadata": {},
   "outputs": [],
   "source": [
    "TICK_BASE = 1.0001\n",
    "\n",
    "# Convert Uniswap v3 tick to a price (i.e. the ratio between the amounts of tokens: token1/token0)\n",
    "def tick_to_price(tick):\n",
    "    return TICK_BASE ** tick\n",
    "\n",
    "'''\n",
    " fee_tier_to_tick_spacing是fee tier和tick spacing之间的对应关系\n",
    " tick spacing 代表价格的精度，tick spacing越大精度越小\n",
    " 详细解释可以看formulas/tickSpacing-and-fee.jpg 和 formulas/tick-spacing.md\n",
    "'''\n",
    "# Not all ticks can be initialized. Tick spacing is determined by the pool's fee tier.\n",
    "def fee_tier_to_tick_spacing(fee_tier):\n",
    "    return {\n",
    "        500: 10,\n",
    "        3000: 60,\n",
    "        10000: 200\n",
    "    }.get(fee_tier, 60)\n",
    "     "
   ]
  },
  {
   "cell_type": "code",
   "execution_count": 4,
   "metadata": {},
   "outputs": [],
   "source": [
    "# Query the subgraph\n",
    "req = urllib.request.Request(URL)\n",
    "req.add_header('Content-Type', 'application/json; charset=utf-8')\n",
    "jsondata = {\"query\" : block_query}\n",
    "jsondataasbytes = json.dumps(jsondata).encode('utf-8')\n",
    "req.add_header('Content-Length', len(jsondataasbytes))\n",
    "response = urllib.request.urlopen(req, jsondataasbytes)\n",
    "assert response.status == 200, \"Bad response\""
   ]
  },
  {
   "cell_type": "code",
   "execution_count": 5,
   "metadata": {},
   "outputs": [
    {
     "name": "stdout",
     "output_type": "stream",
     "text": [
      "Ethereum block height 16202793\n"
     ]
    }
   ],
   "source": [
    "\n",
    "obj = json.load(response)\n",
    "blocknum = obj['data']['_meta']['block']['number']\n",
    "print(\"Ethereum block height {}\".format(blocknum))"
   ]
  },
  {
   "cell_type": "code",
   "execution_count": 9,
   "metadata": {},
   "outputs": [
    {
     "data": {
      "text/plain": [
       "{'data': {'pools': [{'tick': '205573',\n",
       "    'liquidity': '12855162560923118222',\n",
       "    'feeTier': '3000',\n",
       "    'token0': {'symbol': 'USDC', 'decimals': '6'},\n",
       "    'token1': {'symbol': 'WETH', 'decimals': '18'}}]}}"
      ]
     },
     "execution_count": 9,
     "metadata": {},
     "output_type": "execute_result"
    }
   ],
   "source": [
    "obj\n"
   ]
  },
  {
   "cell_type": "code",
   "execution_count": 10,
   "metadata": {},
   "outputs": [
    {
     "name": "stdout",
     "output_type": "stream",
     "text": [
      "L=12855162560923118222\n",
      "tick=205573\n",
      "tick spacing=60 for fee-tier 0.3%\n"
     ]
    }
   ],
   "source": [
    "\n",
    "# Extract liquidity from the response\n",
    "L = int(pool[\"liquidity\"])\n",
    "tick = int(pool[\"tick\"])\n",
    "ft = int(pool[\"feeTier\"])\n",
    "tick_spacing = fee_tier_to_tick_spacing(ft)\n",
    "\n",
    "print(\"L={}\".format(L))\n",
    "print(\"tick={}\".format(tick))\n",
    "print(\"tick spacing={} for fee-tier {}%\".format(tick_spacing, ft/1e4))"
   ]
  },
  {
   "cell_type": "code",
   "execution_count": null,
   "metadata": {},
   "outputs": [],
   "source": []
  }
 ],
 "metadata": {
  "kernelspec": {
   "display_name": "base",
   "language": "python",
   "name": "python3"
  },
  "language_info": {
   "codemirror_mode": {
    "name": "ipython",
    "version": 3
   },
   "file_extension": ".py",
   "mimetype": "text/x-python",
   "name": "python",
   "nbconvert_exporter": "python",
   "pygments_lexer": "ipython3",
   "version": "3.8.8"
  },
  "orig_nbformat": 4,
  "vscode": {
   "interpreter": {
    "hash": "ed0541f89b863e53b19d7ee932e1db400ba10136249599211c245c6ef2345233"
   }
  }
 },
 "nbformat": 4,
 "nbformat_minor": 2
}
