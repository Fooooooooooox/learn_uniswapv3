{
 "cells": [
  {
   "attachments": {},
   "cell_type": "markdown",
   "metadata": {},
   "source": [
    "## part4_invest_metrics\n",
    "\n",
    "除了无常损失之外，还可以引入一些其他的金融metrics来衡量头寸的收益。\n",
    "\n",
    "### ROI\n",
    "\n",
    "$$ ROI = \\frac {Net Profit} {Net Cost} = \\frac { amount_{1} - amount_{0} } { amount_{0} }$$\n",
    "\n",
    "\n",
    "处理成年华收益率：\n",
    "\n",
    "$$ r_{annualized} = (1 + roi) ^ { \\frac {365 } {days}} - 1 $$\n",
    "\n",
    "### \n",
    "\n",
    "\n"
   ]
  },
  {
   "cell_type": "code",
   "execution_count": 147,
   "metadata": {},
   "outputs": [],
   "source": [
    "import pandas as pd\n",
    "from datetime import datetime\n",
    "from importlib import reload\n",
    "from poolData import swapData\n",
    "reload(swapData)\n",
    "\n",
    "query = swapData.SwapDataQuery()"
   ]
  },
  {
   "cell_type": "code",
   "execution_count": 148,
   "metadata": {},
   "outputs": [
    {
     "data": {
      "text/html": [
       "<div>\n",
       "<style scoped>\n",
       "    .dataframe tbody tr th:only-of-type {\n",
       "        vertical-align: middle;\n",
       "    }\n",
       "\n",
       "    .dataframe tbody tr th {\n",
       "        vertical-align: top;\n",
       "    }\n",
       "\n",
       "    .dataframe thead th {\n",
       "        text-align: right;\n",
       "    }\n",
       "</style>\n",
       "<table border=\"1\" class=\"dataframe\">\n",
       "  <thead>\n",
       "    <tr style=\"text-align: right;\">\n",
       "      <th></th>\n",
       "      <th>id</th>\n",
       "      <th>owner</th>\n",
       "      <th>liquidity</th>\n",
       "      <th>depositedToken0</th>\n",
       "      <th>depositedToken1</th>\n",
       "      <th>withdrawnToken0</th>\n",
       "      <th>withdrawnToken1</th>\n",
       "      <th>collectedFeesToken0</th>\n",
       "      <th>collectedFeesToken1</th>\n",
       "      <th>feeGrowthInside0LastX128</th>\n",
       "      <th>feeGrowthInside1LastX128</th>\n",
       "      <th>token0.id</th>\n",
       "      <th>token1.id</th>\n",
       "      <th>tickLower.id</th>\n",
       "      <th>tickUpper.id</th>\n",
       "      <th>transaction.id</th>\n",
       "    </tr>\n",
       "  </thead>\n",
       "  <tbody>\n",
       "    <tr>\n",
       "      <th>0</th>\n",
       "      <td>466521</td>\n",
       "      <td>0xc3830172ef4e76e2a35f2b540579fd4507a77cb7</td>\n",
       "      <td>8027697143087340808</td>\n",
       "      <td>0</td>\n",
       "      <td>12106.759809</td>\n",
       "      <td>0</td>\n",
       "      <td>0</td>\n",
       "      <td>0</td>\n",
       "      <td>0</td>\n",
       "      <td>3657598038082877278892900360302839002720</td>\n",
       "      <td>4443699903658259045286344006</td>\n",
       "      <td>0x5f98805a4e8be255a32880fdec7f6728c6568ba0</td>\n",
       "      <td>0xa0b86991c6218b36c1d19d4a2e9eb0ce3606eb48</td>\n",
       "      <td>0x4e0924d3a751be199c426d52fb1f2337fa96f736#-27...</td>\n",
       "      <td>0x4e0924d3a751be199c426d52fb1f2337fa96f736#-27...</td>\n",
       "      <td>0x46f8f5f403dbf1608a8bdf725957ee4ffbb53a340d06...</td>\n",
       "    </tr>\n",
       "  </tbody>\n",
       "</table>\n",
       "</div>"
      ],
      "text/plain": [
       "       id                                       owner            liquidity  \\\n",
       "0  466521  0xc3830172ef4e76e2a35f2b540579fd4507a77cb7  8027697143087340808   \n",
       "\n",
       "  depositedToken0 depositedToken1 withdrawnToken0 withdrawnToken1  \\\n",
       "0               0    12106.759809               0               0   \n",
       "\n",
       "  collectedFeesToken0 collectedFeesToken1  \\\n",
       "0                   0                   0   \n",
       "\n",
       "                   feeGrowthInside0LastX128      feeGrowthInside1LastX128  \\\n",
       "0  3657598038082877278892900360302839002720  4443699903658259045286344006   \n",
       "\n",
       "                                    token0.id  \\\n",
       "0  0x5f98805a4e8be255a32880fdec7f6728c6568ba0   \n",
       "\n",
       "                                    token1.id  \\\n",
       "0  0xa0b86991c6218b36c1d19d4a2e9eb0ce3606eb48   \n",
       "\n",
       "                                        tickLower.id  \\\n",
       "0  0x4e0924d3a751be199c426d52fb1f2337fa96f736#-27...   \n",
       "\n",
       "                                        tickUpper.id  \\\n",
       "0  0x4e0924d3a751be199c426d52fb1f2337fa96f736#-27...   \n",
       "\n",
       "                                      transaction.id  \n",
       "0  0x46f8f5f403dbf1608a8bdf725957ee4ffbb53a340d06...  "
      ]
     },
     "execution_count": 148,
     "metadata": {},
     "output_type": "execute_result"
    }
   ],
   "source": [
    "position_id = 466521\n",
    "pool_id = \"0x4e0924d3a751be199c426d52fb1f2337fa96f736\"\n",
    "\n",
    "data = query.query_position(position_id=position_id)\n",
    "\n",
    "data"
   ]
  },
  {
   "cell_type": "code",
   "execution_count": 149,
   "metadata": {},
   "outputs": [
    {
     "data": {
      "text/plain": [
       "'0'"
      ]
     },
     "execution_count": 149,
     "metadata": {},
     "output_type": "execute_result"
    }
   ],
   "source": [
    "data[\"depositedToken0\"][0]"
   ]
  },
  {
   "cell_type": "code",
   "execution_count": 150,
   "metadata": {},
   "outputs": [],
   "source": [
    "# 这个池子是LUSD/USDC的池子, token0: lusd; token1: usdc\n",
    "from datetime import datetime\n",
    "begin = datetime(2023, 3, 11)\n",
    "end = datetime(2023, 4, 15)\n",
    "position_id = 466521\n",
    "pool_id = \"0x4e0924d3a751be199c426d52fb1f2337fa96f736\"\n",
    "\n",
    "decimal_usdc = 6\n",
    "decimal_lusd = 18\n",
    "\n",
    "# 计算upper price和lower price\n",
    "position_data = query.query_position(position_id=position_id)\n",
    "position_data\n",
    "tick_i_l = int(position_data[\"tickLower.id\"][0][43:])\n",
    "tick_i_u = int(position_data[\"tickUpper.id\"][0][43:])\n",
    "price_l = (1.0001 ** tick_i_l)\n",
    "price_u = (1.0001 ** tick_i_u)\n",
    "# p_real是根据decimal转换之后的值\n",
    "price_l_real = (1.0001 ** tick_i_l)*(10 ** 12)\n",
    "price_u_real = (1.0001 ** tick_i_u)*(10 ** 12)\n"
   ]
  },
  {
   "cell_type": "code",
   "execution_count": 151,
   "metadata": {},
   "outputs": [
    {
     "name": "stdout",
     "output_type": "stream",
     "text": [
      "this is the cursor: 0x3a901948bd17833d5ca03f77a39a77605f522826fc34429840f934dfc382e7f8#21706\n",
      "this is the cursor: 0x74078b8e3b74856ac8349345c24bcece02a0b0a16ae17bcae6b24194a16e9192#25545\n",
      "this is the cursor: 0xb1b958f22d4caae8b6bbb0d2e3e9e0a1d3212afb2fe2302f808623b179262f36#21701\n",
      "this is the cursor: 0xec507425ff1cc482de9113b05a67760075f2ac296576f9176dd687077d64a621#23524\n",
      "this is the cursor: 0xffd1e269f6bc10dab9aa66698e32dd5fc6bc4c09fee02af1499635fedfe908c0#26062\n",
      "total swaps: \n",
      " 4317\n",
      "total swaps in range: \n",
      " 1445\n"
     ]
    }
   ],
   "source": [
    "swaps = query.query_swaps(begin=int(begin.timestamp()), end=int(end.timestamp()), pool_id=pool_id)\n",
    "# convert str into float\n",
    "swaps['amount0'] = swaps['amount0'].astype(float)\n",
    "swaps['amount1'] = swaps['amount1'].astype(float)\n",
    "swaps['amountUSD'] = swaps['amountUSD'].astype(float)\n",
    "swaps['sqrtPriceX96'] = swaps['sqrtPriceX96'].astype(float)\n",
    "swaps['tick'] = swaps['tick'].astype(int)\n",
    "swaps['logIndex'] = swaps['logIndex'].astype(int)\n",
    "# transform X86 into normal number\n",
    "swaps[\"sqrtPriceX96\"] = (swaps[\"sqrtPriceX96\"] / (2**96) ) ** 2\n",
    "# transform sqrt_p into p\n",
    "swaps[\"sqrtPriceX96\"] = 1 / (swaps[\"sqrtPriceX96\"] * (10 ** 12))\n",
    "\n",
    "# 首先不考虑tick被击穿的情况, 表中的tick是本次swap之后池子内的swap，为了先简化计算，假设最终的tick在我们选定的头寸之内的所有swaps都是在我们的头寸之内发生的\n",
    "# 筛选swaps的条件：swap后最终的tick在我们的头寸tick之内\n",
    "condition = (swaps['tick'] > tick_i_l) & (swaps['tick'] < tick_i_u)\n",
    "# 筛选\n",
    "print(\"total swaps: \\n\", swaps.shape[0])\n",
    "swaps = swaps[condition]\n",
    "print(\"total swaps in range: \\n\", swaps.shape[0])"
   ]
  },
  {
   "cell_type": "code",
   "execution_count": 152,
   "metadata": {},
   "outputs": [
    {
     "data": {
      "text/html": [
       "<div>\n",
       "<style scoped>\n",
       "    .dataframe tbody tr th:only-of-type {\n",
       "        vertical-align: middle;\n",
       "    }\n",
       "\n",
       "    .dataframe tbody tr th {\n",
       "        vertical-align: top;\n",
       "    }\n",
       "\n",
       "    .dataframe thead th {\n",
       "        text-align: right;\n",
       "    }\n",
       "</style>\n",
       "<table border=\"1\" class=\"dataframe\">\n",
       "  <thead>\n",
       "    <tr style=\"text-align: right;\">\n",
       "      <th></th>\n",
       "      <th>timestamp</th>\n",
       "      <th>amount0</th>\n",
       "      <th>amount1</th>\n",
       "      <th>sqrtPriceX96</th>\n",
       "      <th>tick</th>\n",
       "    </tr>\n",
       "  </thead>\n",
       "  <tbody>\n",
       "    <tr>\n",
       "      <th>4</th>\n",
       "      <td>1681283663</td>\n",
       "      <td>252.343510</td>\n",
       "      <td>-254.978898</td>\n",
       "      <td>0.98917</td>\n",
       "      <td>-276216</td>\n",
       "    </tr>\n",
       "    <tr>\n",
       "      <th>7</th>\n",
       "      <td>1678997147</td>\n",
       "      <td>518.144934</td>\n",
       "      <td>-522.987248</td>\n",
       "      <td>0.990248</td>\n",
       "      <td>-276227</td>\n",
       "    </tr>\n",
       "    <tr>\n",
       "      <th>9</th>\n",
       "      <td>1679654111</td>\n",
       "      <td>1142.025901</td>\n",
       "      <td>-1155.629973</td>\n",
       "      <td>0.987736</td>\n",
       "      <td>-276201</td>\n",
       "    </tr>\n",
       "    <tr>\n",
       "      <th>10</th>\n",
       "      <td>1679653775</td>\n",
       "      <td>-2777.243446</td>\n",
       "      <td>2813.142400</td>\n",
       "      <td>0.987729</td>\n",
       "      <td>-276201</td>\n",
       "    </tr>\n",
       "    <tr>\n",
       "      <th>11</th>\n",
       "      <td>1680737939</td>\n",
       "      <td>-815.581234</td>\n",
       "      <td>825.000000</td>\n",
       "      <td>0.989077</td>\n",
       "      <td>-276215</td>\n",
       "    </tr>\n",
       "    <tr>\n",
       "      <th>15</th>\n",
       "      <td>1680221519</td>\n",
       "      <td>-13.630000</td>\n",
       "      <td>13.798111</td>\n",
       "      <td>0.988311</td>\n",
       "      <td>-276207</td>\n",
       "    </tr>\n",
       "  </tbody>\n",
       "</table>\n",
       "</div>"
      ],
      "text/plain": [
       "     timestamp      amount0      amount1 sqrtPriceX96    tick\n",
       "4   1681283663   252.343510  -254.978898      0.98917 -276216\n",
       "7   1678997147   518.144934  -522.987248     0.990248 -276227\n",
       "9   1679654111  1142.025901 -1155.629973     0.987736 -276201\n",
       "10  1679653775 -2777.243446  2813.142400     0.987729 -276201\n",
       "11  1680737939  -815.581234   825.000000     0.989077 -276215\n",
       "15  1680221519   -13.630000    13.798111     0.988311 -276207"
      ]
     },
     "execution_count": 152,
     "metadata": {},
     "output_type": "execute_result"
    }
   ],
   "source": [
    "# 现在来加总然后计算手续费\n",
    "swaps1 = swaps\n",
    "# 先把不用的列去掉\n",
    "swaps1 = swaps1.drop(swaps1.columns[[0, 2, 3, 4, 7, 10]], axis = 1)\n",
    "swaps1.head(6)"
   ]
  },
  {
   "cell_type": "code",
   "execution_count": 1,
   "metadata": {},
   "outputs": [
    {
     "ename": "NameError",
     "evalue": "name 'price_l' is not defined",
     "output_type": "error",
     "traceback": [
      "\u001b[0;31m---------------------------------------------------------------------------\u001b[0m",
      "\u001b[0;31mNameError\u001b[0m                                 Traceback (most recent call last)",
      "Cell \u001b[0;32mIn[1], line 1\u001b[0m\n\u001b[0;32m----> 1\u001b[0m price_l\n",
      "\u001b[0;31mNameError\u001b[0m: name 'price_l' is not defined"
     ]
    }
   ],
   "source": [
    "price_l"
   ]
  },
  {
   "cell_type": "code",
   "execution_count": 153,
   "metadata": {},
   "outputs": [
    {
     "name": "stdout",
     "output_type": "stream",
     "text": [
      "this is the cursor: 0xb14697d320814ebfc49cacd10b377f8a284b3bf8d971279182ee904ea0683aec#23559\n",
      "this is the cursor: 0xffd1e269f6bc10dab9aa66698e32dd5fc6bc4c09fee02af1499635fedfe908c0#26062\n",
      "this is the cursor: 1681416000\n"
     ]
    }
   ],
   "source": [
    "# 先把tick price转换成sqrtX96的形式\n",
    "sqrt_p_lower = (price_l ** 0.5) * (2 ** 96)\n",
    "sqrt_p_upper = (price_u ** 0.5) * (2 ** 96)\n",
    "sqrt_p_lower_f = '{:.0f}'.format(sqrt_p_lower)\n",
    "sqrt_p_upper_f = '{:.0f}'.format(sqrt_p_upper)\n",
    "\n",
    "# 筛选出所有在tick之内的swaps\n",
    "swaps = query.query_swaps(begin=int(begin.timestamp()), end=int(end.timestamp()), pool_id=pool_id, sqrtPriceX96_gte=sqrt_p_lower_f, sqrtPriceX96_lte=sqrt_p_upper_f)\n",
    "liquidity_data = query.query_liquidity(begin=int(begin.timestamp()), end=int(end.timestamp()), pool_id=pool_id, sqrtPrice_gt=sqrt_p_lower_f, sqrtPrice_lt=sqrt_p_upper_f)"
   ]
  },
  {
   "cell_type": "code",
   "execution_count": 154,
   "metadata": {},
   "outputs": [
    {
     "data": {
      "text/html": [
       "<div>\n",
       "<style scoped>\n",
       "    .dataframe tbody tr th:only-of-type {\n",
       "        vertical-align: middle;\n",
       "    }\n",
       "\n",
       "    .dataframe tbody tr th {\n",
       "        vertical-align: top;\n",
       "    }\n",
       "\n",
       "    .dataframe thead th {\n",
       "        text-align: right;\n",
       "    }\n",
       "</style>\n",
       "<table border=\"1\" class=\"dataframe\">\n",
       "  <thead>\n",
       "    <tr style=\"text-align: right;\">\n",
       "      <th></th>\n",
       "      <th>id</th>\n",
       "      <th>timestamp</th>\n",
       "      <th>sender</th>\n",
       "      <th>recipient</th>\n",
       "      <th>origin</th>\n",
       "      <th>amount0</th>\n",
       "      <th>amount1</th>\n",
       "      <th>amountUSD</th>\n",
       "      <th>sqrtPriceX96</th>\n",
       "      <th>tick</th>\n",
       "      <th>logIndex</th>\n",
       "      <th>liquidity</th>\n",
       "    </tr>\n",
       "  </thead>\n",
       "  <tbody>\n",
       "    <tr>\n",
       "      <th>0</th>\n",
       "      <td>0x102ab09e3db41935dafce3bdf85411d044c62607bfcd...</td>\n",
       "      <td>1678468679</td>\n",
       "      <td>0xe592427a0aece92de3edee1f18e0157c05861564</td>\n",
       "      <td>0xdef171fe48cf0115b1d80b88dc8eab59176fee57</td>\n",
       "      <td>0x9fea6d71bed43ab13cff10d8eeb9354d47f4e42c</td>\n",
       "      <td>-144802.531667347300083036</td>\n",
       "      <td>146197.450741</td>\n",
       "      <td>146197.450741</td>\n",
       "      <td>79639906560328829756323</td>\n",
       "      <td>-276221</td>\n",
       "      <td>13</td>\n",
       "      <td>113647072223080402568</td>\n",
       "    </tr>\n",
       "    <tr>\n",
       "      <th>1</th>\n",
       "      <td>0x3a901948bd17833d5ca03f77a39a77605f522826fc34...</td>\n",
       "      <td>1678470083</td>\n",
       "      <td>0xe592427a0aece92de3edee1f18e0157c05861564</td>\n",
       "      <td>0xe592427a0aece92de3edee1f18e0157c05861564</td>\n",
       "      <td>0xddcf904464166ac74629241ba21199adee3a04ad</td>\n",
       "      <td>2992.5</td>\n",
       "      <td>-3022.092718</td>\n",
       "      <td>3022.092718</td>\n",
       "      <td>79637799732160080764280</td>\n",
       "      <td>-276221</td>\n",
       "      <td>197</td>\n",
       "      <td>113647072223080402568</td>\n",
       "    </tr>\n",
       "    <tr>\n",
       "      <th>2</th>\n",
       "      <td>0x22f69e5a8ff3b13be9f66598730d2618697188606596...</td>\n",
       "      <td>1678471139</td>\n",
       "      <td>0x0000000000a84d1a9b0063a910315c7ffa9cd248</td>\n",
       "      <td>0x92ab871abb9d567aa276b2ce58d0203d84e0181e</td>\n",
       "      <td>0x2ee36e41387f87b7e6f678a86d1e575b23b996f5</td>\n",
       "      <td>1881.061178865875054321</td>\n",
       "      <td>-1899.581078</td>\n",
       "      <td>1899.581078</td>\n",
       "      <td>79636475454152159045662</td>\n",
       "      <td>-276222</td>\n",
       "      <td>22</td>\n",
       "      <td>113647072223080402568</td>\n",
       "    </tr>\n",
       "  </tbody>\n",
       "</table>\n",
       "</div>"
      ],
      "text/plain": [
       "                                                  id   timestamp  \\\n",
       "0  0x102ab09e3db41935dafce3bdf85411d044c62607bfcd...  1678468679   \n",
       "1  0x3a901948bd17833d5ca03f77a39a77605f522826fc34...  1678470083   \n",
       "2  0x22f69e5a8ff3b13be9f66598730d2618697188606596...  1678471139   \n",
       "\n",
       "                                       sender  \\\n",
       "0  0xe592427a0aece92de3edee1f18e0157c05861564   \n",
       "1  0xe592427a0aece92de3edee1f18e0157c05861564   \n",
       "2  0x0000000000a84d1a9b0063a910315c7ffa9cd248   \n",
       "\n",
       "                                    recipient  \\\n",
       "0  0xdef171fe48cf0115b1d80b88dc8eab59176fee57   \n",
       "1  0xe592427a0aece92de3edee1f18e0157c05861564   \n",
       "2  0x92ab871abb9d567aa276b2ce58d0203d84e0181e   \n",
       "\n",
       "                                       origin                     amount0  \\\n",
       "0  0x9fea6d71bed43ab13cff10d8eeb9354d47f4e42c  -144802.531667347300083036   \n",
       "1  0xddcf904464166ac74629241ba21199adee3a04ad                      2992.5   \n",
       "2  0x2ee36e41387f87b7e6f678a86d1e575b23b996f5     1881.061178865875054321   \n",
       "\n",
       "         amount1      amountUSD             sqrtPriceX96     tick logIndex  \\\n",
       "0  146197.450741  146197.450741  79639906560328829756323  -276221       13   \n",
       "1   -3022.092718    3022.092718  79637799732160080764280  -276221      197   \n",
       "2   -1899.581078    1899.581078  79636475454152159045662  -276222       22   \n",
       "\n",
       "               liquidity  \n",
       "0  113647072223080402568  \n",
       "1  113647072223080402568  \n",
       "2  113647072223080402568  "
      ]
     },
     "execution_count": 154,
     "metadata": {},
     "output_type": "execute_result"
    }
   ],
   "source": [
    "liquidity_data = liquidity_data[[\"periodStartUnix\", \"liquidity\"]]\n",
    "liquidity_data = liquidity_data.rename(columns={\"periodStartUnix\": \"timestamp\", \"liquidity\": \"liquidity\"})\n",
    "# 先排序\n",
    "swaps[\"timestamp\"] = swaps[\"timestamp\"].astype(int)\n",
    "swaps = swaps.sort_values(by=\"timestamp\")\n",
    "liquidity_data = liquidity_data.sort_values(by=\"timestamp\")\n",
    "# 找liquidity data只时间最接近的来合并\n",
    "merged_data = pd.merge_asof(\n",
    "    swaps,\n",
    "    liquidity_data[[\"timestamp\", \"liquidity\"]],\n",
    "    on=\"timestamp\",\n",
    "    direction=\"nearest\"\n",
    ")\n",
    "merged_data.head(3)"
   ]
  },
  {
   "cell_type": "code",
   "execution_count": 155,
   "metadata": {},
   "outputs": [
    {
     "name": "stdout",
     "output_type": "stream",
     "text": [
      "254.59212998490977\n",
      "231.42731550325948\n"
     ]
    }
   ],
   "source": [
    "# 获取头寸的liquidity，后续手续费的分成是按照头寸的liquidity占总liquidity的比例来计算的\n",
    "position_liquidity = position_data[\"liquidity\"][0]\n",
    "merged_data['liquidity'] = merged_data['liquidity'].astype(float)\n",
    "merged_data['ratio'] = float(position_liquidity) / merged_data[\"liquidity\"]\n",
    "merged_data['amount0'] = merged_data['amount0'].astype(float).apply(lambda x: max(0, x))\n",
    "merged_data['amount1'] = merged_data['amount1'].astype(float).apply(lambda x: max(0, x))\n",
    "\n",
    "merged_data[\"fee0\"] = merged_data[\"amount0\"] * merged_data['ratio'] * 0.0005\n",
    "fee0_sum = merged_data[\"fee0\"].sum()\n",
    "\n",
    "merged_data[\"fee1\"] = merged_data[\"amount1\"] * merged_data['ratio'] * 0.0005\n",
    "fee1_sum = merged_data[\"fee1\"].sum()\n",
    "\n",
    "print(fee0_sum)\n",
    "print(fee1_sum)\n"
   ]
  },
  {
   "cell_type": "markdown",
   "metadata": {},
   "source": []
  },
  {
   "cell_type": "code",
   "execution_count": null,
   "metadata": {},
   "outputs": [],
   "source": []
  }
 ],
 "metadata": {
  "kernelspec": {
   "display_name": "myPythonEnviron",
   "language": "python",
   "name": "python3"
  },
  "language_info": {
   "codemirror_mode": {
    "name": "ipython",
    "version": 3
   },
   "file_extension": ".py",
   "mimetype": "text/x-python",
   "name": "python",
   "nbconvert_exporter": "python",
   "pygments_lexer": "ipython3",
   "version": "3.9.16"
  },
  "orig_nbformat": 4
 },
 "nbformat": 4,
 "nbformat_minor": 2
}
