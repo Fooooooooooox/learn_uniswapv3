{
 "cells": [
  {
   "cell_type": "code",
   "execution_count": null,
   "metadata": {},
   "outputs": [],
   "source": [
    "\n",
    "# Liquidity math adapted from:\n",
    "#   https://github.com/Uniswap/uniswap-v3-periphery/blob/main/contracts/libraries/LiquidityAmounts.sol\n",
    "\n",
    "# \n",
    "'''\n",
    "Computes the amount of liquidity received for a given amount of token0 and price range\n",
    "sa: sqrtRatioAX96 ticket下限\n",
    "sb: sqrtRatioBX96 ticket上限\n",
    "x: 存入的x token的数量\n",
    "'''\n",
    "\n",
    "def get_liquidity_0(x, sa, sb):\n",
    "    return x * sa * sb / (sb - sa)\n",
    "\n",
    "def get_liquidity_1(y, sa, sb):\n",
    "    return y / (sb - sa)\n",
    "\n",
    "'''\n",
    "sp 是现在的价格 计算流动性的时候分为三种情况：\n",
    "1. 现在的价格比tick的下限还低 说明流动性全是以x token来提供的 只要算x提供了多少流动性就可以\n",
    "2. 现在的价格在tick之内 计算流动性的时候是两者之间较小的一个\n",
    "3. 现在的价格比tick的上限还高 说明流动性全是以y token来提供的 只要计算y提供了多少流动性就可以\n",
    "'''\n",
    "def get_liquidity(x, y, sp, sa, sb):\n",
    "    if sp <= sa:\n",
    "        liquidity = get_liquidity_0(x, sa, sb)\n",
    "    elif sp < sb:\n",
    "        liquidity0 = get_liquidity_0(x, sp, sb)\n",
    "        liquidity1 = get_liquidity_1(y, sa, sp)\n",
    "        liquidity = min(liquidity0, liquidity1)\n",
    "    else:\n",
    "        liquidity = get_liquidity_1(y, sa, sb)\n",
    "    return liquidity"
   ]
  }
 ],
 "metadata": {
  "language_info": {
   "name": "python"
  },
  "orig_nbformat": 4
 },
 "nbformat": 4,
 "nbformat_minor": 2
}
