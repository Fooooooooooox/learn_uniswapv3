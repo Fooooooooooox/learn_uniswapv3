{
 "cells": [
  {
   "cell_type": "code",
   "execution_count": 1,
   "metadata": {},
   "outputs": [],
   "source": [
    "\n",
    "# Liquidity math adapted from:\n",
    "#   https://github.com/Uniswap/uniswap-v3-periphery/blob/main/contracts/libraries/LiquidityAmounts.sol\n",
    "\n",
    "# formula ref：\n",
    "# http://atiselsts.github.io/pdfs/uniswap-v3-liquidity-math.pdf\n",
    "\n",
    "# \n",
    "'''\n",
    "Computes the amount of liquidity received for a given amount of token0 and price range\n",
    "sa: sqrtRatioAX96 ticket下限\n",
    "sb: sqrtRatioBX96 ticket上限\n",
    "x: 存入的x token的数量\n",
    "'''\n",
    "\n",
    "def get_liquidity_0(x, sa, sb):\n",
    "    return x * sa * sb / (sb - sa)\n",
    "\n",
    "def get_liquidity_1(y, sa, sb):\n",
    "    return y / (sb - sa)\n",
    "\n",
    "'''\n",
    "sp 是现在的价格 计算流动性的时候分为三种情况：\n",
    "1. 现在的价格比tick的下限还低 说明流动性全是以x token来提供的 只要算x提供了多少流动性就可以\n",
    "2. 现在的价格在tick之内 计算流动性的时候是两者之间较小的一个\n",
    "3. 现在的价格比tick的上限还高 说明流动性全是以y token来提供的 只要计算y提供了多少流动性就可以\n",
    "'''\n",
    "def get_liquidity(x, y, sp, sa, sb):\n",
    "    if sp <= sa:\n",
    "        liquidity = get_liquidity_0(x, sa, sb)\n",
    "    elif sp < sb:\n",
    "        liquidity0 = get_liquidity_0(x, sp, sb)\n",
    "        liquidity1 = get_liquidity_1(y, sa, sp)\n",
    "        liquidity = min(liquidity0, liquidity1)\n",
    "    else:\n",
    "        liquidity = get_liquidity_1(y, sa, sb)\n",
    "    return liquidity"
   ]
  },
  {
   "cell_type": "code",
   "execution_count": 2,
   "metadata": {},
   "outputs": [],
   "source": [
    "\n",
    "# Calculate x and y given liquidity and price range\n",
    "\n",
    "'''\n",
    "这个计算公式就是formulas/calculate-v3-liquidity.PNG里推导出来的\n",
    "如果现在的价格在a和b之间 sp为sp\n",
    "如果现在的价格比a小 sp为sa\n",
    "如果现在的价格比b大 sp为pb\n",
    "总之就是如果现在的价格不在所选的价格区间内 就选顶端的其中一个\n",
    "'''\n",
    "\n",
    "def calculate_x(L, sp, sa, sb): \n",
    "    # if the price is outside the range, use the range endpoints instead\n",
    "    sp = max(min(sp, sb), sa)\n",
    "    return L * (sb - sp) / (sp * sb)  #from eq(12) in Tech Note\n",
    "\n",
    "def calculate_y(L, sp, sa, sb):\n",
    "    # if the price is outside the range, use the range endpoints instead\n",
    "    sp = max(min(sp, sb), sa)\n",
    "    return L * (sp - sa)  #from eq(13) in Tech Note\n",
    "     "
   ]
  },
  {
   "cell_type": "code",
   "execution_count": 3,
   "metadata": {},
   "outputs": [],
   "source": [
    "\n",
    "# 这个和上一个块用的是同一个公式\n",
    "# 就是带入其他值算pa 和pb\n",
    "# Two different ways how to calculate p_a. calculate_a1() uses liquidity as an input, calculate_a2() does not.\n",
    "\n",
    "def calculate_a1(L, sp, sb, x, y):\n",
    "    # https://www.wolframalpha.com/input/?i=solve+L+%3D+y+%2F+%28sqrt%28P%29+-+a%29+for+a\n",
    "    # sqrt(a) = sqrt(P) - y / L\n",
    "    return (sp - y / L) ** 2  #from eq(14) in Tech Note\n",
    "\n",
    "def calculate_a2(sp, sb, x, y):\n",
    "    # https://www.wolframalpha.com/input/?i=solve+++x+sqrt%28P%29+sqrt%28b%29+%2F+%28sqrt%28b%29++-+sqrt%28P%29%29+%3D+y+%2F+%28sqrt%28P%29+-+a%29%2C+for+a\n",
    "    # sqrt(a) = (y/sqrt(b) + sqrt(P) x - y/sqrt(P))/x\n",
    "    #    simplify:\n",
    "    # sqrt(a) = y/(sqrt(b) x) + sqrt(P) - y/(sqrt(P) x)\n",
    "    sa = y / (sb * x) + sp - y / (sp * x)  #from eq(16) in Tech Note\n",
    "    return sa ** 2\n",
    "\n",
    "# Two different ways how to calculate p_b. calculate_b1() uses liquidity as an input, calculate_b2() does not.\n",
    "\n",
    "def calculate_b1(L, sp, sa, x, y):\n",
    "    # https://www.wolframalpha.com/input/?i=solve+L+%3D+x+sqrt%28P%29+sqrt%28b%29+%2F+%28sqrt%28b%29+-+sqrt%28P%29%29+for+b\n",
    "    # sqrt(b) = (L sqrt(P)) / (L - sqrt(P) x)\n",
    "    return ((L * sp) / (L - sp * x)) ** 2  #from eq(15) in Tech Note\n",
    "\n",
    "def calculate_b2(sp, sa, x, y):\n",
    "    # find the square root of b:\n",
    "    # https://www.wolframalpha.com/input/?i=solve+++x+sqrt%28P%29+b+%2F+%28b++-+sqrt%28P%29%29+%3D+y+%2F+%28sqrt%28P%29+-+sqrt%28a%29%29%2C+for+b\n",
    "    # sqrt(b) = (sqrt(P) y)/(sqrt(a) sqrt(P) x - P x + y)\n",
    "    P = sp ** 2\n",
    "    return (sp * y / ((sa * sp - P) * x + y)) ** 2  #from eq(17) in Tech Note\n",
    "     "
   ]
  },
  {
   "cell_type": "code",
   "execution_count": null,
   "metadata": {},
   "outputs": [],
   "source": [
    "\n",
    "# Calculating c and d\n",
    "\n",
    "def calculate_c(p, d, x, y):\n",
    "    return y / ((d - 1) * p * x + y)  #from eq(24) in Tech Note\n",
    "\n",
    "def calculate_d(p, c, x, y):\n",
    "    return 1 + y * (1 - c) / (c * p * x)  #from eq(25) in Tech Note"
   ]
  }
 ],
 "metadata": {
  "kernelspec": {
   "display_name": "Python 3.8.8 ('base')",
   "language": "python",
   "name": "python3"
  },
  "language_info": {
   "codemirror_mode": {
    "name": "ipython",
    "version": 3
   },
   "file_extension": ".py",
   "mimetype": "text/x-python",
   "name": "python",
   "nbconvert_exporter": "python",
   "pygments_lexer": "ipython3",
   "version": "3.8.8"
  },
  "orig_nbformat": 4,
  "vscode": {
   "interpreter": {
    "hash": "ed0541f89b863e53b19d7ee932e1db400ba10136249599211c245c6ef2345233"
   }
  }
 },
 "nbformat": 4,
 "nbformat_minor": 2
}
