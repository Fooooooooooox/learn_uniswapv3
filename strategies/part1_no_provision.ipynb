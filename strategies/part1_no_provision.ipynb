{
 "cells": [
  {
   "attachments": {},
   "cell_type": "markdown",
   "metadata": {},
   "source": [
    "### no provision\n",
    "\n",
    "策略：直接持有两种token，份额是一半一半。\n",
    "\n",
    "这个策略没有实际意义，只是是用来作为基准策略，在比较项目的盈利的时候可以以这个作为基准"
   ]
  },
  {
   "cell_type": "code",
   "execution_count": 41,
   "metadata": {},
   "outputs": [],
   "source": [
    "import sys\n",
    "sys.path.append(\"..\") \n",
    "import pandas as pd\n",
    "from datetime import datetime\n",
    "from importlib import reload\n",
    "from poolData import swapData\n",
    "from utils import utils\n",
    "reload(swapData)\n",
    "reload(utils)\n",
    "\n",
    "query = swapData.SwapDataQuery()\n",
    "utils = utils.utils()\n"
   ]
  },
  {
   "cell_type": "code",
   "execution_count": 56,
   "metadata": {},
   "outputs": [
    {
     "name": "stdout",
     "output_type": "stream",
     "text": [
      "pool_id: 0x88e6a0c2ddd26feeb64f039a2c41296fcb3f5640 - type: <class 'str'>\n",
      "this is the cursor: 1681621200\n"
     ]
    }
   ],
   "source": [
    "# 选定池子： token0: usdc(decimal: 6), token1: weth(decimal: 18)\n",
    "pool_id = \"0x88e6a0c2ddd26feeb64f039a2c41296fcb3f5640\"\n",
    "query.query_positions(pool_id=pool_id, block_gte=16859000, limit=10, orderBy=\"owner\")\n",
    "decimal0 = 6\n",
    "decimal1 = 18\n",
    "# 初始头寸的美元价值\n",
    "initial_position = 10000\n",
    "\n",
    "# 选定时间\n",
    "begin = datetime(2023, 3, 19)\n",
    "end = datetime.now()\n",
    "\n",
    "# 获取起始时间和结束时间的价格\n",
    "# 假设本金是1000刀，token0是usdc，数量是500\n",
    "token0_amount = 5000\n",
    "# 计算token1数量的时候需要知道价格\n",
    "# 获取价格\n",
    "liquidity_data = query.query_liquidity(begin=int(begin.timestamp()), end=int(end.timestamp()), pool_id=\"0x88e6a0c2ddd26feeb64f039a2c41296fcb3f5640\")\n",
    "liquidity_data\n",
    "price_begin = utils.sqrtPrice2Price(int(liquidity_data[\"sqrtPrice\"][0]))\n",
    "price_end = utils.sqrtPrice2Price(int(liquidity_data[\"sqrtPrice\"][liquidity_data.shape[0]-1]))\n",
    "price_begin_real = utils.price2RealPrice(price_begin, decimal0=decimal0, decimal1=decimal1)\n",
    "price_end_real = utils.price2RealPrice(price_end, decimal0=decimal0, decimal1=decimal1)\n",
    "# 拿到价格之后才可以计算初始头寸\n",
    "token1_amount = 5000 * price_begin_real"
   ]
  },
  {
   "cell_type": "code",
   "execution_count": null,
   "metadata": {},
   "outputs": [],
   "source": []
  }
 ],
 "metadata": {
  "kernelspec": {
   "display_name": "myPythonEnviron",
   "language": "python",
   "name": "python3"
  },
  "language_info": {
   "codemirror_mode": {
    "name": "ipython",
    "version": 3
   },
   "file_extension": ".py",
   "mimetype": "text/x-python",
   "name": "python",
   "nbconvert_exporter": "python",
   "pygments_lexer": "ipython3",
   "version": "3.9.16"
  },
  "orig_nbformat": 4
 },
 "nbformat": 4,
 "nbformat_minor": 2
}
