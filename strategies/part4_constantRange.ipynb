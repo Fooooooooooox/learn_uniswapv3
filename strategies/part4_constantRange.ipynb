{
 "cells": [
  {
   "attachments": {},
   "cell_type": "markdown",
   "metadata": {},
   "source": [
    "### Constant Range\n",
    "\n",
    "策略：初始的时候选定一个价格范围，之后就不再调整。\n",
    "\n",
    "根据初始的时候如何选择价格范围，又可以分为很多策略：\n",
    "\n",
    "    1. 以当前价格为中心，选定一个固定长度的价格范围(这个策略相当于part3_activeAdjustment在首次提供之后不再调整)\n",
    "\n",
    "    2. 参考池子内流动性的分布图，以分布最多的价格为中心，选择一个固定长度的价格范围\n",
    "\n",
    "    3. 计算出池子价格的时间加权价格，以当前的时间加权价格为中心，选择一个固定长度的价格范围\n",
    "\n",
    "    4. 基于布林带\n",
    "        选择布林带的上轨线作为价格上限，下轨线作为价格下限，作为价格范围。\n",
    "    等等"
   ]
  },
  {
   "cell_type": "code",
   "execution_count": null,
   "metadata": {},
   "outputs": [],
   "source": [
    "# 先算最简单的第一个\n"
   ]
  }
 ],
 "metadata": {
  "language_info": {
   "name": "python"
  },
  "orig_nbformat": 4
 },
 "nbformat": 4,
 "nbformat_minor": 2
}
