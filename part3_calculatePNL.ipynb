{
 "cells": [
  {
   "attachments": {},
   "cell_type": "markdown",
   "metadata": {},
   "source": [
    "### Part3. 计算PNL\n",
    "有了part1和2就可以计算PNL（Profit and Loss）了：\n",
    "\n",
    "$$ PNL = Fees + IL - Gas$$\n"
   ]
  },
  {
   "cell_type": "code",
   "execution_count": 5,
   "metadata": {},
   "outputs": [
    {
     "name": "stdout",
     "output_type": "stream",
     "text": [
      "PNL:  -510.2325298412822\n"
     ]
    }
   ],
   "source": [
    "fee0_sum = 17.033364499275496\n",
    "fee1_sum = 0.009627564829887168\n",
    "p_y = 1823.6057803593876\n",
    "IL = -544.8227772151247\n",
    "# gas就先不算了\n",
    "PNL = fee0_sum + fee1_sum*p_y + IL\n",
    "print(\"PNL: \", PNL)"
   ]
  },
  {
   "cell_type": "code",
   "execution_count": null,
   "metadata": {},
   "outputs": [],
   "source": []
  }
 ],
 "metadata": {
  "kernelspec": {
   "display_name": "myPythonEnviron",
   "language": "python",
   "name": "python3"
  },
  "language_info": {
   "codemirror_mode": {
    "name": "ipython",
    "version": 3
   },
   "file_extension": ".py",
   "mimetype": "text/x-python",
   "name": "python",
   "nbconvert_exporter": "python",
   "pygments_lexer": "ipython3",
   "version": "3.9.16"
  },
  "orig_nbformat": 4
 },
 "nbformat": 4,
 "nbformat_minor": 2
}
