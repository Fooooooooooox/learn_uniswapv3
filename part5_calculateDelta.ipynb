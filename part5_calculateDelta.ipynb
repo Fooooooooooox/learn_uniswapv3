{
 "cells": [
  {
   "attachments": {},
   "cell_type": "markdown",
   "metadata": {},
   "source": [
    "## part4: 计算IL的delta\n",
    "\n",
    "IL delta 的定义是价格变化引起IL的变化程度 (percentage of loss of LP given price movement of d)\n",
    "\n",
    "\n"
   ]
  }
 ],
 "metadata": {
  "language_info": {
   "name": "python"
  },
  "orig_nbformat": 4
 },
 "nbformat": 4,
 "nbformat_minor": 2
}
